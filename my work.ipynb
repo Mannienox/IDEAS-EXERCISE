{
 "cells": [
  {
   "cell_type": "markdown",
   "metadata": {},
   "source": [
    "# **Importing the Libraries to be used**"
   ]
  },
  {
   "cell_type": "code",
   "execution_count": 1,
   "metadata": {
    "metadata": {}
   },
   "outputs": [
    {
     "name": "stderr",
     "output_type": "stream",
     "text": [
      "C:\\Users\\USER\\AppData\\Local\\Temp\\ipykernel_13512\\3839117441.py:2: DeprecationWarning: \n",
      "Pyarrow will become a required dependency of pandas in the next major release of pandas (pandas 3.0),\n",
      "(to allow more performant data types, such as the Arrow string type, and better interoperability with other libraries)\n",
      "but was not found to be installed on your system.\n",
      "If this would cause problems for you,\n",
      "please provide us feedback at https://github.com/pandas-dev/pandas/issues/54466\n",
      "        \n",
      "  import pandas as pd\n"
     ]
    }
   ],
   "source": [
    "import numpy as np \n",
    "import pandas as pd \n",
    "import matplotlib.pyplot as plt \n",
    "import seaborn as sns  \n"
   ]
  },
  {
   "cell_type": "markdown",
   "metadata": {},
   "source": [
    "# **Reading of dataset**"
   ]
  },
  {
   "cell_type": "code",
   "execution_count": 2,
   "metadata": {
    "metadata": {}
   },
   "outputs": [],
   "source": [
    "dts = pd.read_excel(\"Excel Project Dataset.xlsx\")"
   ]
  },
  {
   "cell_type": "markdown",
   "metadata": {},
   "source": [
    "# **Looking into our dataset**"
   ]
  },
  {
   "cell_type": "code",
   "execution_count": 3,
   "metadata": {
    "metadata": {}
   },
   "outputs": [
    {
     "data": {
      "text/html": [
       "<div>\n",
       "<style scoped>\n",
       "    .dataframe tbody tr th:only-of-type {\n",
       "        vertical-align: middle;\n",
       "    }\n",
       "\n",
       "    .dataframe tbody tr th {\n",
       "        vertical-align: top;\n",
       "    }\n",
       "\n",
       "    .dataframe thead th {\n",
       "        text-align: right;\n",
       "    }\n",
       "</style>\n",
       "<table border=\"1\" class=\"dataframe\">\n",
       "  <thead>\n",
       "    <tr style=\"text-align: right;\">\n",
       "      <th></th>\n",
       "      <th>ID</th>\n",
       "      <th>Marital Status</th>\n",
       "      <th>Gender</th>\n",
       "      <th>Income</th>\n",
       "      <th>Children</th>\n",
       "      <th>Education</th>\n",
       "      <th>Occupation</th>\n",
       "      <th>Home Owner</th>\n",
       "      <th>Cars</th>\n",
       "      <th>Commute Distance</th>\n",
       "      <th>Region</th>\n",
       "      <th>Age</th>\n",
       "      <th>Purchased Bike</th>\n",
       "    </tr>\n",
       "  </thead>\n",
       "  <tbody>\n",
       "    <tr>\n",
       "      <th>0</th>\n",
       "      <td>12496</td>\n",
       "      <td>M</td>\n",
       "      <td>F</td>\n",
       "      <td>40000</td>\n",
       "      <td>1</td>\n",
       "      <td>Bachelors</td>\n",
       "      <td>Skilled Manual</td>\n",
       "      <td>Yes</td>\n",
       "      <td>0</td>\n",
       "      <td>0-1 Miles</td>\n",
       "      <td>Europe</td>\n",
       "      <td>42</td>\n",
       "      <td>No</td>\n",
       "    </tr>\n",
       "    <tr>\n",
       "      <th>1</th>\n",
       "      <td>24107</td>\n",
       "      <td>M</td>\n",
       "      <td>M</td>\n",
       "      <td>30000</td>\n",
       "      <td>3</td>\n",
       "      <td>Partial College</td>\n",
       "      <td>Clerical</td>\n",
       "      <td>Yes</td>\n",
       "      <td>1</td>\n",
       "      <td>0-1 Miles</td>\n",
       "      <td>Europe</td>\n",
       "      <td>43</td>\n",
       "      <td>No</td>\n",
       "    </tr>\n",
       "    <tr>\n",
       "      <th>2</th>\n",
       "      <td>14177</td>\n",
       "      <td>M</td>\n",
       "      <td>M</td>\n",
       "      <td>80000</td>\n",
       "      <td>5</td>\n",
       "      <td>Partial College</td>\n",
       "      <td>Professional</td>\n",
       "      <td>No</td>\n",
       "      <td>2</td>\n",
       "      <td>2-5 Miles</td>\n",
       "      <td>Europe</td>\n",
       "      <td>60</td>\n",
       "      <td>No</td>\n",
       "    </tr>\n",
       "    <tr>\n",
       "      <th>3</th>\n",
       "      <td>24381</td>\n",
       "      <td>S</td>\n",
       "      <td>M</td>\n",
       "      <td>70000</td>\n",
       "      <td>0</td>\n",
       "      <td>Bachelors</td>\n",
       "      <td>Professional</td>\n",
       "      <td>Yes</td>\n",
       "      <td>1</td>\n",
       "      <td>5-10 Miles</td>\n",
       "      <td>Pacific</td>\n",
       "      <td>41</td>\n",
       "      <td>Yes</td>\n",
       "    </tr>\n",
       "    <tr>\n",
       "      <th>4</th>\n",
       "      <td>25597</td>\n",
       "      <td>S</td>\n",
       "      <td>M</td>\n",
       "      <td>30000</td>\n",
       "      <td>0</td>\n",
       "      <td>Bachelors</td>\n",
       "      <td>Clerical</td>\n",
       "      <td>No</td>\n",
       "      <td>0</td>\n",
       "      <td>0-1 Miles</td>\n",
       "      <td>Europe</td>\n",
       "      <td>36</td>\n",
       "      <td>Yes</td>\n",
       "    </tr>\n",
       "  </tbody>\n",
       "</table>\n",
       "</div>"
      ],
      "text/plain": [
       "      ID Marital Status Gender  Income  Children        Education  \\\n",
       "0  12496              M      F   40000         1        Bachelors   \n",
       "1  24107              M      M   30000         3  Partial College   \n",
       "2  14177              M      M   80000         5  Partial College   \n",
       "3  24381              S      M   70000         0        Bachelors   \n",
       "4  25597              S      M   30000         0        Bachelors   \n",
       "\n",
       "       Occupation Home Owner  Cars Commute Distance   Region  Age  \\\n",
       "0  Skilled Manual        Yes     0        0-1 Miles   Europe   42   \n",
       "1        Clerical        Yes     1        0-1 Miles   Europe   43   \n",
       "2    Professional         No     2        2-5 Miles   Europe   60   \n",
       "3    Professional        Yes     1       5-10 Miles  Pacific   41   \n",
       "4        Clerical         No     0        0-1 Miles   Europe   36   \n",
       "\n",
       "  Purchased Bike  \n",
       "0             No  \n",
       "1             No  \n",
       "2             No  \n",
       "3            Yes  \n",
       "4            Yes  "
      ]
     },
     "execution_count": 3,
     "metadata": {},
     "output_type": "execute_result"
    }
   ],
   "source": [
    "dts.head()"
   ]
  },
  {
   "cell_type": "code",
   "execution_count": 4,
   "metadata": {
    "metadata": {}
   },
   "outputs": [
    {
     "data": {
      "text/html": [
       "<div>\n",
       "<style scoped>\n",
       "    .dataframe tbody tr th:only-of-type {\n",
       "        vertical-align: middle;\n",
       "    }\n",
       "\n",
       "    .dataframe tbody tr th {\n",
       "        vertical-align: top;\n",
       "    }\n",
       "\n",
       "    .dataframe thead th {\n",
       "        text-align: right;\n",
       "    }\n",
       "</style>\n",
       "<table border=\"1\" class=\"dataframe\">\n",
       "  <thead>\n",
       "    <tr style=\"text-align: right;\">\n",
       "      <th></th>\n",
       "      <th>ID</th>\n",
       "      <th>Marital Status</th>\n",
       "      <th>Gender</th>\n",
       "      <th>Income</th>\n",
       "      <th>Children</th>\n",
       "      <th>Education</th>\n",
       "      <th>Occupation</th>\n",
       "      <th>Home Owner</th>\n",
       "      <th>Cars</th>\n",
       "      <th>Commute Distance</th>\n",
       "      <th>Region</th>\n",
       "      <th>Age</th>\n",
       "      <th>Purchased Bike</th>\n",
       "    </tr>\n",
       "  </thead>\n",
       "  <tbody>\n",
       "    <tr>\n",
       "      <th>1021</th>\n",
       "      <td>16466</td>\n",
       "      <td>S</td>\n",
       "      <td>F</td>\n",
       "      <td>20000</td>\n",
       "      <td>0</td>\n",
       "      <td>Partial High School</td>\n",
       "      <td>Manual</td>\n",
       "      <td>No</td>\n",
       "      <td>2</td>\n",
       "      <td>0-1 Miles</td>\n",
       "      <td>Europe</td>\n",
       "      <td>32</td>\n",
       "      <td>Yes</td>\n",
       "    </tr>\n",
       "    <tr>\n",
       "      <th>1022</th>\n",
       "      <td>19273</td>\n",
       "      <td>M</td>\n",
       "      <td>F</td>\n",
       "      <td>20000</td>\n",
       "      <td>2</td>\n",
       "      <td>Partial College</td>\n",
       "      <td>Manual</td>\n",
       "      <td>Yes</td>\n",
       "      <td>0</td>\n",
       "      <td>0-1 Miles</td>\n",
       "      <td>Europe</td>\n",
       "      <td>63</td>\n",
       "      <td>No</td>\n",
       "    </tr>\n",
       "    <tr>\n",
       "      <th>1023</th>\n",
       "      <td>22400</td>\n",
       "      <td>M</td>\n",
       "      <td>M</td>\n",
       "      <td>10000</td>\n",
       "      <td>0</td>\n",
       "      <td>Partial College</td>\n",
       "      <td>Manual</td>\n",
       "      <td>No</td>\n",
       "      <td>1</td>\n",
       "      <td>0-1 Miles</td>\n",
       "      <td>Pacific</td>\n",
       "      <td>26</td>\n",
       "      <td>Yes</td>\n",
       "    </tr>\n",
       "    <tr>\n",
       "      <th>1024</th>\n",
       "      <td>20942</td>\n",
       "      <td>S</td>\n",
       "      <td>F</td>\n",
       "      <td>20000</td>\n",
       "      <td>0</td>\n",
       "      <td>High School</td>\n",
       "      <td>Manual</td>\n",
       "      <td>No</td>\n",
       "      <td>1</td>\n",
       "      <td>5-10 Miles</td>\n",
       "      <td>Europe</td>\n",
       "      <td>31</td>\n",
       "      <td>No</td>\n",
       "    </tr>\n",
       "    <tr>\n",
       "      <th>1025</th>\n",
       "      <td>18484</td>\n",
       "      <td>S</td>\n",
       "      <td>M</td>\n",
       "      <td>80000</td>\n",
       "      <td>2</td>\n",
       "      <td>High School</td>\n",
       "      <td>Skilled Manual</td>\n",
       "      <td>No</td>\n",
       "      <td>2</td>\n",
       "      <td>1-2 Miles</td>\n",
       "      <td>Pacific</td>\n",
       "      <td>50</td>\n",
       "      <td>Yes</td>\n",
       "    </tr>\n",
       "  </tbody>\n",
       "</table>\n",
       "</div>"
      ],
      "text/plain": [
       "         ID Marital Status Gender  Income  Children            Education  \\\n",
       "1021  16466              S      F   20000         0  Partial High School   \n",
       "1022  19273              M      F   20000         2      Partial College   \n",
       "1023  22400              M      M   10000         0      Partial College   \n",
       "1024  20942              S      F   20000         0          High School   \n",
       "1025  18484              S      M   80000         2          High School   \n",
       "\n",
       "          Occupation Home Owner  Cars Commute Distance   Region  Age  \\\n",
       "1021          Manual         No     2        0-1 Miles   Europe   32   \n",
       "1022          Manual        Yes     0        0-1 Miles   Europe   63   \n",
       "1023          Manual         No     1        0-1 Miles  Pacific   26   \n",
       "1024          Manual         No     1       5-10 Miles   Europe   31   \n",
       "1025  Skilled Manual         No     2        1-2 Miles  Pacific   50   \n",
       "\n",
       "     Purchased Bike  \n",
       "1021            Yes  \n",
       "1022             No  \n",
       "1023            Yes  \n",
       "1024             No  \n",
       "1025            Yes  "
      ]
     },
     "execution_count": 4,
     "metadata": {},
     "output_type": "execute_result"
    }
   ],
   "source": [
    "dts.tail()"
   ]
  },
  {
   "cell_type": "markdown",
   "metadata": {},
   "source": [
    "# **Inspecting columns**"
   ]
  },
  {
   "cell_type": "code",
   "execution_count": 5,
   "metadata": {
    "metadata": {}
   },
   "outputs": [
    {
     "name": "stdout",
     "output_type": "stream",
     "text": [
      "<class 'pandas.core.frame.DataFrame'>\n",
      "RangeIndex: 1026 entries, 0 to 1025\n",
      "Data columns (total 13 columns):\n",
      " #   Column            Non-Null Count  Dtype \n",
      "---  ------            --------------  ----- \n",
      " 0   ID                1026 non-null   int64 \n",
      " 1   Marital Status    1026 non-null   object\n",
      " 2   Gender            1026 non-null   object\n",
      " 3   Income            1026 non-null   int64 \n",
      " 4   Children          1026 non-null   int64 \n",
      " 5   Education         1026 non-null   object\n",
      " 6   Occupation        1026 non-null   object\n",
      " 7   Home Owner        1026 non-null   object\n",
      " 8   Cars              1026 non-null   int64 \n",
      " 9   Commute Distance  1026 non-null   object\n",
      " 10  Region            1026 non-null   object\n",
      " 11  Age               1026 non-null   int64 \n",
      " 12  Purchased Bike    1026 non-null   object\n",
      "dtypes: int64(5), object(8)\n",
      "memory usage: 104.3+ KB\n"
     ]
    }
   ],
   "source": [
    "dts.info()"
   ]
  },
  {
   "cell_type": "markdown",
   "metadata": {},
   "source": [
    "# **Checking for null values**"
   ]
  },
  {
   "cell_type": "code",
   "execution_count": 6,
   "metadata": {
    "metadata": {}
   },
   "outputs": [
    {
     "data": {
      "text/plain": [
       "ID                  False\n",
       "Marital Status      False\n",
       "Gender              False\n",
       "Income              False\n",
       "Children            False\n",
       "Education           False\n",
       "Occupation          False\n",
       "Home Owner          False\n",
       "Cars                False\n",
       "Commute Distance    False\n",
       "Region              False\n",
       "Age                 False\n",
       "Purchased Bike      False\n",
       "dtype: bool"
      ]
     },
     "execution_count": 6,
     "metadata": {},
     "output_type": "execute_result"
    }
   ],
   "source": [
    "dts.isna().any()"
   ]
  },
  {
   "cell_type": "markdown",
   "metadata": {},
   "source": [
    "# **Checking for duplicate entries**"
   ]
  },
  {
   "cell_type": "code",
   "execution_count": 7,
   "metadata": {
    "metadata": {}
   },
   "outputs": [
    {
     "data": {
      "text/html": [
       "<div>\n",
       "<style scoped>\n",
       "    .dataframe tbody tr th:only-of-type {\n",
       "        vertical-align: middle;\n",
       "    }\n",
       "\n",
       "    .dataframe tbody tr th {\n",
       "        vertical-align: top;\n",
       "    }\n",
       "\n",
       "    .dataframe thead th {\n",
       "        text-align: right;\n",
       "    }\n",
       "</style>\n",
       "<table border=\"1\" class=\"dataframe\">\n",
       "  <thead>\n",
       "    <tr style=\"text-align: right;\">\n",
       "      <th></th>\n",
       "      <th>ID</th>\n",
       "      <th>Marital Status</th>\n",
       "      <th>Gender</th>\n",
       "      <th>Income</th>\n",
       "      <th>Children</th>\n",
       "      <th>Education</th>\n",
       "      <th>Occupation</th>\n",
       "      <th>Home Owner</th>\n",
       "      <th>Cars</th>\n",
       "      <th>Commute Distance</th>\n",
       "      <th>Region</th>\n",
       "      <th>Age</th>\n",
       "      <th>Purchased Bike</th>\n",
       "    </tr>\n",
       "  </thead>\n",
       "  <tbody>\n",
       "    <tr>\n",
       "      <th>1000</th>\n",
       "      <td>13507</td>\n",
       "      <td>M</td>\n",
       "      <td>F</td>\n",
       "      <td>10000</td>\n",
       "      <td>2</td>\n",
       "      <td>Partial College</td>\n",
       "      <td>Manual</td>\n",
       "      <td>Yes</td>\n",
       "      <td>0</td>\n",
       "      <td>1-2 Miles</td>\n",
       "      <td>Europe</td>\n",
       "      <td>50</td>\n",
       "      <td>No</td>\n",
       "    </tr>\n",
       "    <tr>\n",
       "      <th>1001</th>\n",
       "      <td>19280</td>\n",
       "      <td>M</td>\n",
       "      <td>M</td>\n",
       "      <td>120000</td>\n",
       "      <td>2</td>\n",
       "      <td>Partial College</td>\n",
       "      <td>Manual</td>\n",
       "      <td>Yes</td>\n",
       "      <td>1</td>\n",
       "      <td>0-1 Miles</td>\n",
       "      <td>Europe</td>\n",
       "      <td>40</td>\n",
       "      <td>Yes</td>\n",
       "    </tr>\n",
       "    <tr>\n",
       "      <th>1002</th>\n",
       "      <td>22173</td>\n",
       "      <td>M</td>\n",
       "      <td>F</td>\n",
       "      <td>30000</td>\n",
       "      <td>3</td>\n",
       "      <td>High School</td>\n",
       "      <td>Skilled Manual</td>\n",
       "      <td>No</td>\n",
       "      <td>2</td>\n",
       "      <td>1-2 Miles</td>\n",
       "      <td>Pacific</td>\n",
       "      <td>54</td>\n",
       "      <td>Yes</td>\n",
       "    </tr>\n",
       "    <tr>\n",
       "      <th>1003</th>\n",
       "      <td>12697</td>\n",
       "      <td>S</td>\n",
       "      <td>F</td>\n",
       "      <td>90000</td>\n",
       "      <td>0</td>\n",
       "      <td>Bachelors</td>\n",
       "      <td>Professional</td>\n",
       "      <td>No</td>\n",
       "      <td>4</td>\n",
       "      <td>10+ Miles</td>\n",
       "      <td>Pacific</td>\n",
       "      <td>36</td>\n",
       "      <td>No</td>\n",
       "    </tr>\n",
       "    <tr>\n",
       "      <th>1004</th>\n",
       "      <td>11434</td>\n",
       "      <td>M</td>\n",
       "      <td>M</td>\n",
       "      <td>170000</td>\n",
       "      <td>5</td>\n",
       "      <td>Partial College</td>\n",
       "      <td>Professional</td>\n",
       "      <td>Yes</td>\n",
       "      <td>0</td>\n",
       "      <td>0-1 Miles</td>\n",
       "      <td>Europe</td>\n",
       "      <td>55</td>\n",
       "      <td>No</td>\n",
       "    </tr>\n",
       "    <tr>\n",
       "      <th>1005</th>\n",
       "      <td>25323</td>\n",
       "      <td>M</td>\n",
       "      <td>M</td>\n",
       "      <td>40000</td>\n",
       "      <td>2</td>\n",
       "      <td>Partial College</td>\n",
       "      <td>Clerical</td>\n",
       "      <td>Yes</td>\n",
       "      <td>1</td>\n",
       "      <td>1-2 Miles</td>\n",
       "      <td>Europe</td>\n",
       "      <td>35</td>\n",
       "      <td>Yes</td>\n",
       "    </tr>\n",
       "    <tr>\n",
       "      <th>1006</th>\n",
       "      <td>23542</td>\n",
       "      <td>S</td>\n",
       "      <td>M</td>\n",
       "      <td>60000</td>\n",
       "      <td>1</td>\n",
       "      <td>Partial College</td>\n",
       "      <td>Skilled Manual</td>\n",
       "      <td>No</td>\n",
       "      <td>1</td>\n",
       "      <td>0-1 Miles</td>\n",
       "      <td>Pacific</td>\n",
       "      <td>45</td>\n",
       "      <td>Yes</td>\n",
       "    </tr>\n",
       "    <tr>\n",
       "      <th>1007</th>\n",
       "      <td>20870</td>\n",
       "      <td>S</td>\n",
       "      <td>F</td>\n",
       "      <td>10000</td>\n",
       "      <td>2</td>\n",
       "      <td>High School</td>\n",
       "      <td>Manual</td>\n",
       "      <td>Yes</td>\n",
       "      <td>1</td>\n",
       "      <td>0-1 Miles</td>\n",
       "      <td>Europe</td>\n",
       "      <td>38</td>\n",
       "      <td>Yes</td>\n",
       "    </tr>\n",
       "    <tr>\n",
       "      <th>1008</th>\n",
       "      <td>23316</td>\n",
       "      <td>S</td>\n",
       "      <td>M</td>\n",
       "      <td>30000</td>\n",
       "      <td>3</td>\n",
       "      <td>Partial College</td>\n",
       "      <td>Clerical</td>\n",
       "      <td>No</td>\n",
       "      <td>2</td>\n",
       "      <td>1-2 Miles</td>\n",
       "      <td>Pacific</td>\n",
       "      <td>59</td>\n",
       "      <td>Yes</td>\n",
       "    </tr>\n",
       "    <tr>\n",
       "      <th>1009</th>\n",
       "      <td>12610</td>\n",
       "      <td>M</td>\n",
       "      <td>F</td>\n",
       "      <td>30000</td>\n",
       "      <td>1</td>\n",
       "      <td>Bachelors</td>\n",
       "      <td>Clerical</td>\n",
       "      <td>Yes</td>\n",
       "      <td>0</td>\n",
       "      <td>0-1 Miles</td>\n",
       "      <td>Europe</td>\n",
       "      <td>47</td>\n",
       "      <td>No</td>\n",
       "    </tr>\n",
       "    <tr>\n",
       "      <th>1010</th>\n",
       "      <td>27183</td>\n",
       "      <td>S</td>\n",
       "      <td>M</td>\n",
       "      <td>40000</td>\n",
       "      <td>2</td>\n",
       "      <td>Partial College</td>\n",
       "      <td>Clerical</td>\n",
       "      <td>Yes</td>\n",
       "      <td>1</td>\n",
       "      <td>1-2 Miles</td>\n",
       "      <td>Europe</td>\n",
       "      <td>35</td>\n",
       "      <td>Yes</td>\n",
       "    </tr>\n",
       "    <tr>\n",
       "      <th>1011</th>\n",
       "      <td>25940</td>\n",
       "      <td>S</td>\n",
       "      <td>M</td>\n",
       "      <td>20000</td>\n",
       "      <td>2</td>\n",
       "      <td>Partial High School</td>\n",
       "      <td>Clerical</td>\n",
       "      <td>Yes</td>\n",
       "      <td>2</td>\n",
       "      <td>5-10 Miles</td>\n",
       "      <td>Pacific</td>\n",
       "      <td>55</td>\n",
       "      <td>Yes</td>\n",
       "    </tr>\n",
       "    <tr>\n",
       "      <th>1012</th>\n",
       "      <td>25598</td>\n",
       "      <td>M</td>\n",
       "      <td>F</td>\n",
       "      <td>40000</td>\n",
       "      <td>0</td>\n",
       "      <td>Graduate Degree</td>\n",
       "      <td>Clerical</td>\n",
       "      <td>Yes</td>\n",
       "      <td>0</td>\n",
       "      <td>0-1 Miles</td>\n",
       "      <td>Europe</td>\n",
       "      <td>36</td>\n",
       "      <td>Yes</td>\n",
       "    </tr>\n",
       "    <tr>\n",
       "      <th>1013</th>\n",
       "      <td>21564</td>\n",
       "      <td>S</td>\n",
       "      <td>F</td>\n",
       "      <td>80000</td>\n",
       "      <td>0</td>\n",
       "      <td>Bachelors</td>\n",
       "      <td>Professional</td>\n",
       "      <td>Yes</td>\n",
       "      <td>4</td>\n",
       "      <td>10+ Miles</td>\n",
       "      <td>Pacific</td>\n",
       "      <td>35</td>\n",
       "      <td>No</td>\n",
       "    </tr>\n",
       "    <tr>\n",
       "      <th>1014</th>\n",
       "      <td>19193</td>\n",
       "      <td>S</td>\n",
       "      <td>M</td>\n",
       "      <td>40000</td>\n",
       "      <td>2</td>\n",
       "      <td>Partial College</td>\n",
       "      <td>Clerical</td>\n",
       "      <td>Yes</td>\n",
       "      <td>0</td>\n",
       "      <td>1-2 Miles</td>\n",
       "      <td>Europe</td>\n",
       "      <td>35</td>\n",
       "      <td>Yes</td>\n",
       "    </tr>\n",
       "    <tr>\n",
       "      <th>1015</th>\n",
       "      <td>26412</td>\n",
       "      <td>M</td>\n",
       "      <td>F</td>\n",
       "      <td>80000</td>\n",
       "      <td>5</td>\n",
       "      <td>High School</td>\n",
       "      <td>Management</td>\n",
       "      <td>No</td>\n",
       "      <td>3</td>\n",
       "      <td>5-10 Miles</td>\n",
       "      <td>Europe</td>\n",
       "      <td>56</td>\n",
       "      <td>No</td>\n",
       "    </tr>\n",
       "    <tr>\n",
       "      <th>1016</th>\n",
       "      <td>27184</td>\n",
       "      <td>S</td>\n",
       "      <td>M</td>\n",
       "      <td>40000</td>\n",
       "      <td>2</td>\n",
       "      <td>Partial College</td>\n",
       "      <td>Clerical</td>\n",
       "      <td>No</td>\n",
       "      <td>1</td>\n",
       "      <td>0-1 Miles</td>\n",
       "      <td>Europe</td>\n",
       "      <td>34</td>\n",
       "      <td>No</td>\n",
       "    </tr>\n",
       "    <tr>\n",
       "      <th>1017</th>\n",
       "      <td>12590</td>\n",
       "      <td>S</td>\n",
       "      <td>M</td>\n",
       "      <td>30000</td>\n",
       "      <td>1</td>\n",
       "      <td>Bachelors</td>\n",
       "      <td>Clerical</td>\n",
       "      <td>Yes</td>\n",
       "      <td>0</td>\n",
       "      <td>0-1 Miles</td>\n",
       "      <td>Europe</td>\n",
       "      <td>63</td>\n",
       "      <td>No</td>\n",
       "    </tr>\n",
       "    <tr>\n",
       "      <th>1018</th>\n",
       "      <td>17841</td>\n",
       "      <td>S</td>\n",
       "      <td>M</td>\n",
       "      <td>30000</td>\n",
       "      <td>0</td>\n",
       "      <td>Partial College</td>\n",
       "      <td>Clerical</td>\n",
       "      <td>No</td>\n",
       "      <td>1</td>\n",
       "      <td>0-1 Miles</td>\n",
       "      <td>Europe</td>\n",
       "      <td>29</td>\n",
       "      <td>Yes</td>\n",
       "    </tr>\n",
       "    <tr>\n",
       "      <th>1019</th>\n",
       "      <td>18283</td>\n",
       "      <td>S</td>\n",
       "      <td>F</td>\n",
       "      <td>100000</td>\n",
       "      <td>0</td>\n",
       "      <td>Bachelors</td>\n",
       "      <td>Professional</td>\n",
       "      <td>No</td>\n",
       "      <td>1</td>\n",
       "      <td>5-10 Miles</td>\n",
       "      <td>Pacific</td>\n",
       "      <td>40</td>\n",
       "      <td>No</td>\n",
       "    </tr>\n",
       "    <tr>\n",
       "      <th>1020</th>\n",
       "      <td>18299</td>\n",
       "      <td>M</td>\n",
       "      <td>M</td>\n",
       "      <td>70000</td>\n",
       "      <td>5</td>\n",
       "      <td>Partial College</td>\n",
       "      <td>Skilled Manual</td>\n",
       "      <td>Yes</td>\n",
       "      <td>2</td>\n",
       "      <td>5-10 Miles</td>\n",
       "      <td>Pacific</td>\n",
       "      <td>44</td>\n",
       "      <td>No</td>\n",
       "    </tr>\n",
       "    <tr>\n",
       "      <th>1021</th>\n",
       "      <td>16466</td>\n",
       "      <td>S</td>\n",
       "      <td>F</td>\n",
       "      <td>20000</td>\n",
       "      <td>0</td>\n",
       "      <td>Partial High School</td>\n",
       "      <td>Manual</td>\n",
       "      <td>No</td>\n",
       "      <td>2</td>\n",
       "      <td>0-1 Miles</td>\n",
       "      <td>Europe</td>\n",
       "      <td>32</td>\n",
       "      <td>Yes</td>\n",
       "    </tr>\n",
       "    <tr>\n",
       "      <th>1022</th>\n",
       "      <td>19273</td>\n",
       "      <td>M</td>\n",
       "      <td>F</td>\n",
       "      <td>20000</td>\n",
       "      <td>2</td>\n",
       "      <td>Partial College</td>\n",
       "      <td>Manual</td>\n",
       "      <td>Yes</td>\n",
       "      <td>0</td>\n",
       "      <td>0-1 Miles</td>\n",
       "      <td>Europe</td>\n",
       "      <td>63</td>\n",
       "      <td>No</td>\n",
       "    </tr>\n",
       "    <tr>\n",
       "      <th>1023</th>\n",
       "      <td>22400</td>\n",
       "      <td>M</td>\n",
       "      <td>M</td>\n",
       "      <td>10000</td>\n",
       "      <td>0</td>\n",
       "      <td>Partial College</td>\n",
       "      <td>Manual</td>\n",
       "      <td>No</td>\n",
       "      <td>1</td>\n",
       "      <td>0-1 Miles</td>\n",
       "      <td>Pacific</td>\n",
       "      <td>26</td>\n",
       "      <td>Yes</td>\n",
       "    </tr>\n",
       "    <tr>\n",
       "      <th>1024</th>\n",
       "      <td>20942</td>\n",
       "      <td>S</td>\n",
       "      <td>F</td>\n",
       "      <td>20000</td>\n",
       "      <td>0</td>\n",
       "      <td>High School</td>\n",
       "      <td>Manual</td>\n",
       "      <td>No</td>\n",
       "      <td>1</td>\n",
       "      <td>5-10 Miles</td>\n",
       "      <td>Europe</td>\n",
       "      <td>31</td>\n",
       "      <td>No</td>\n",
       "    </tr>\n",
       "    <tr>\n",
       "      <th>1025</th>\n",
       "      <td>18484</td>\n",
       "      <td>S</td>\n",
       "      <td>M</td>\n",
       "      <td>80000</td>\n",
       "      <td>2</td>\n",
       "      <td>High School</td>\n",
       "      <td>Skilled Manual</td>\n",
       "      <td>No</td>\n",
       "      <td>2</td>\n",
       "      <td>1-2 Miles</td>\n",
       "      <td>Pacific</td>\n",
       "      <td>50</td>\n",
       "      <td>Yes</td>\n",
       "    </tr>\n",
       "  </tbody>\n",
       "</table>\n",
       "</div>"
      ],
      "text/plain": [
       "         ID Marital Status Gender  Income  Children            Education  \\\n",
       "1000  13507              M      F   10000         2      Partial College   \n",
       "1001  19280              M      M  120000         2      Partial College   \n",
       "1002  22173              M      F   30000         3          High School   \n",
       "1003  12697              S      F   90000         0            Bachelors   \n",
       "1004  11434              M      M  170000         5      Partial College   \n",
       "1005  25323              M      M   40000         2      Partial College   \n",
       "1006  23542              S      M   60000         1      Partial College   \n",
       "1007  20870              S      F   10000         2          High School   \n",
       "1008  23316              S      M   30000         3      Partial College   \n",
       "1009  12610              M      F   30000         1            Bachelors   \n",
       "1010  27183              S      M   40000         2      Partial College   \n",
       "1011  25940              S      M   20000         2  Partial High School   \n",
       "1012  25598              M      F   40000         0      Graduate Degree   \n",
       "1013  21564              S      F   80000         0            Bachelors   \n",
       "1014  19193              S      M   40000         2      Partial College   \n",
       "1015  26412              M      F   80000         5          High School   \n",
       "1016  27184              S      M   40000         2      Partial College   \n",
       "1017  12590              S      M   30000         1            Bachelors   \n",
       "1018  17841              S      M   30000         0      Partial College   \n",
       "1019  18283              S      F  100000         0            Bachelors   \n",
       "1020  18299              M      M   70000         5      Partial College   \n",
       "1021  16466              S      F   20000         0  Partial High School   \n",
       "1022  19273              M      F   20000         2      Partial College   \n",
       "1023  22400              M      M   10000         0      Partial College   \n",
       "1024  20942              S      F   20000         0          High School   \n",
       "1025  18484              S      M   80000         2          High School   \n",
       "\n",
       "          Occupation Home Owner  Cars Commute Distance   Region  Age  \\\n",
       "1000          Manual        Yes     0        1-2 Miles   Europe   50   \n",
       "1001          Manual        Yes     1        0-1 Miles   Europe   40   \n",
       "1002  Skilled Manual         No     2        1-2 Miles  Pacific   54   \n",
       "1003    Professional         No     4        10+ Miles  Pacific   36   \n",
       "1004    Professional        Yes     0        0-1 Miles   Europe   55   \n",
       "1005        Clerical        Yes     1        1-2 Miles   Europe   35   \n",
       "1006  Skilled Manual         No     1        0-1 Miles  Pacific   45   \n",
       "1007          Manual        Yes     1        0-1 Miles   Europe   38   \n",
       "1008        Clerical         No     2        1-2 Miles  Pacific   59   \n",
       "1009        Clerical        Yes     0        0-1 Miles   Europe   47   \n",
       "1010        Clerical        Yes     1        1-2 Miles   Europe   35   \n",
       "1011        Clerical        Yes     2       5-10 Miles  Pacific   55   \n",
       "1012        Clerical        Yes     0        0-1 Miles   Europe   36   \n",
       "1013    Professional        Yes     4        10+ Miles  Pacific   35   \n",
       "1014        Clerical        Yes     0        1-2 Miles   Europe   35   \n",
       "1015      Management         No     3       5-10 Miles   Europe   56   \n",
       "1016        Clerical         No     1        0-1 Miles   Europe   34   \n",
       "1017        Clerical        Yes     0        0-1 Miles   Europe   63   \n",
       "1018        Clerical         No     1        0-1 Miles   Europe   29   \n",
       "1019    Professional         No     1       5-10 Miles  Pacific   40   \n",
       "1020  Skilled Manual        Yes     2       5-10 Miles  Pacific   44   \n",
       "1021          Manual         No     2        0-1 Miles   Europe   32   \n",
       "1022          Manual        Yes     0        0-1 Miles   Europe   63   \n",
       "1023          Manual         No     1        0-1 Miles  Pacific   26   \n",
       "1024          Manual         No     1       5-10 Miles   Europe   31   \n",
       "1025  Skilled Manual         No     2        1-2 Miles  Pacific   50   \n",
       "\n",
       "     Purchased Bike  \n",
       "1000             No  \n",
       "1001            Yes  \n",
       "1002            Yes  \n",
       "1003             No  \n",
       "1004             No  \n",
       "1005            Yes  \n",
       "1006            Yes  \n",
       "1007            Yes  \n",
       "1008            Yes  \n",
       "1009             No  \n",
       "1010            Yes  \n",
       "1011            Yes  \n",
       "1012            Yes  \n",
       "1013             No  \n",
       "1014            Yes  \n",
       "1015             No  \n",
       "1016             No  \n",
       "1017             No  \n",
       "1018            Yes  \n",
       "1019             No  \n",
       "1020             No  \n",
       "1021            Yes  \n",
       "1022             No  \n",
       "1023            Yes  \n",
       "1024             No  \n",
       "1025            Yes  "
      ]
     },
     "execution_count": 7,
     "metadata": {},
     "output_type": "execute_result"
    }
   ],
   "source": [
    "dts[dts.duplicated()]"
   ]
  },
  {
   "cell_type": "markdown",
   "metadata": {},
   "source": [
    "## **Removing Duplicate entries**"
   ]
  },
  {
   "cell_type": "code",
   "execution_count": 8,
   "metadata": {
    "metadata": {}
   },
   "outputs": [],
   "source": [
    "cdts = dts.drop_duplicates()"
   ]
  },
  {
   "cell_type": "markdown",
   "metadata": {},
   "source": [
    "# **QUESTIONS AND ANSWERS**\n",
    "___\n",
    "***\n",
    "___"
   ]
  },
  {
   "cell_type": "markdown",
   "metadata": {},
   "source": [
    "# **In North America, what mode of transportation do single individuals primarily utilize: cars or bicycles?**"
   ]
  },
  {
   "cell_type": "markdown",
   "metadata": {},
   "source": [
    "#### From the analysis, we can see that Single individuas utilize cars (169) primarily as a means of transportation more than they utlize bicycles (113) in North America"
   ]
  },
  {
   "cell_type": "code",
   "execution_count": 9,
   "metadata": {
    "metadata": {}
   },
   "outputs": [
    {
     "data": {
      "text/plain": [
       "169"
      ]
     },
     "execution_count": 9,
     "metadata": {},
     "output_type": "execute_result"
    }
   ],
   "source": [
    "cdts[(cdts.Region == 'North America') & (cdts['Marital Status'] == 'S') & (cdts.Cars > 0)]['Cars'].count()"
   ]
  },
  {
   "cell_type": "code",
   "execution_count": 10,
   "metadata": {
    "metadata": {}
   },
   "outputs": [
    {
     "data": {
      "text/plain": [
       "113"
      ]
     },
     "execution_count": 10,
     "metadata": {},
     "output_type": "execute_result"
    }
   ],
   "source": [
    "cdts[(cdts.Region == 'North America') & (cdts['Marital Status'] == 'S') & (cdts['Purchased Bike'] == 'Yes')]['Purchased Bike'].count()"
   ]
  },
  {
   "cell_type": "markdown",
   "metadata": {},
   "source": [
    "# **Which region boasts the highest number of cars owned by individuals over the age of 70?**"
   ]
  },
  {
   "cell_type": "markdown",
   "metadata": {},
   "source": [
    "### The answer is North america which has a total of 8 car owners above 70 years"
   ]
  },
  {
   "cell_type": "code",
   "execution_count": 32,
   "metadata": {
    "metadata": {}
   },
   "outputs": [
    {
     "data": {
      "image/png": "[encoded data removed]",
      "text/plain": [
       "<Figure size 800x500 with 1 Axes>"
      ]
     },
     "metadata": {},
     "output_type": "display_data"
    }
   ],
   "source": [
    "plt.figure(figsize=(8,5))\n",
    "cdts[(cdts['Cars'] > 0) & (cdts['Age'] > 70)].groupby('Region')['Cars'].count().plot.bar(rot = 0, \n",
    "                                                                                         color = sns.color_palette('magma', 3), \n",
    "                                                                                         hatch = '/')\n",
    "plt.title('Distribution of Car owners who are  above 70 by Region', fontdict={\n",
    "        'family' : 'montserrat',\n",
    "        'fontweight' : 'bold',\n",
    "        'c' : 'darkblue'},\n",
    "          fontsize = 25)\n",
    "plt.xlabel('Region', fontdict={\n",
    "        'family' : 'montserrat',\n",
    "        'fontweight' : 'bold',\n",
    "        'c' : 'darkblue'},\n",
    "          fontsize = 12)\n",
    "plt.ylabel('Number of Cars', fontdict={\n",
    "        'family' : 'montserrat',\n",
    "        'fontweight' : 'bold',\n",
    "        'c' : 'darkblue'},\n",
    "          fontsize = 12)\n",
    "plt.show()"
   ]
  },
  {
   "cell_type": "markdown",
   "metadata": {},
   "source": [
    "# ****Count the total number of Female residents in North America whose income is greater than $10000****"
   ]
  },
  {
   "cell_type": "markdown",
   "metadata": {},
   "source": [
    "#### We have a number of 237 female residents in North Ameria whose income is above $10,000\n"
   ]
  },
  {
   "cell_type": "code",
   "execution_count": 12,
   "metadata": {},
   "outputs": [
    {
     "data": {
      "text/plain": [
       "(237, 13)"
      ]
     },
     "execution_count": 12,
     "metadata": {},
     "output_type": "execute_result"
    }
   ],
   "source": [
    "cdts[(cdts.Gender == 'F') & (cdts.Region == 'North America') & (cdts.Income > 10000)].shape"
   ]
  },
  {
   "cell_type": "markdown",
   "metadata": {},
   "source": [
    "# **How many high school students in Pacific has at least one car and a bicycle**"
   ]
  },
  {
   "cell_type": "markdown",
   "metadata": {},
   "source": [
    "#### We have 15 students in pacific that have atleast 1 car and a bike\n"
   ]
  },
  {
   "cell_type": "code",
   "execution_count": 13,
   "metadata": {},
   "outputs": [
    {
     "data": {
      "text/plain": [
       "(15, 13)"
      ]
     },
     "execution_count": 13,
     "metadata": {},
     "output_type": "execute_result"
    }
   ],
   "source": [
    "cdts[(cdts.Region == 'Pacific') & (cdts.Education == 'High School') & (cdts['Cars'] > 0) & (cdts['Purchased Bike'] == 'Yes')].shape"
   ]
  },
  {
   "cell_type": "markdown",
   "metadata": {},
   "source": [
    "# **Do clerical workers in pacific have more cars than professionals**"
   ]
  },
  {
   "cell_type": "markdown",
   "metadata": {},
   "source": [
    "#### Clearly, the answer is a NO because _Professionals_ have a total of 471 cars while _Clerical workers_ have only a total of 145"
   ]
  },
  {
   "cell_type": "code",
   "execution_count": 14,
   "metadata": {},
   "outputs": [
    {
     "data": {
      "image/png": "[encoded data removed]",
      "text/plain": [
       "<Figure size 640x480 with 1 Axes>"
      ]
     },
     "metadata": {},
     "output_type": "display_data"
    }
   ],
   "source": [
    "cdts[(cdts['Occupation'] == 'Clerical') | (cdts['Occupation'] == 'Professional')].groupby('Occupation')['Cars'].sum().plot.bar(rot = 0, color = 'darkblue', hatch = '/')\n",
    "plt.title('Distribution of Car owners by Occupation', fontdict={\n",
    "        'family' : 'montserrat',\n",
    "        'fontweight' : 'bold',\n",
    "        'c' : 'darkblue'},\n",
    "          fontsize = 25)\n",
    "plt.xlabel('Occupation', fontdict={\n",
    "        'family' : 'montserrat',\n",
    "        'fontweight' : 'bold',\n",
    "        'c' : 'darkblue'},\n",
    "          fontsize = 12)\n",
    "plt.ylabel('Number of Cars', fontdict={\n",
    "        'family' : 'montserrat',\n",
    "        'fontweight' : 'bold',\n",
    "        'c' : 'darkblue'},\n",
    "          fontsize = 12)\n",
    "plt.show()"
   ]
  },
  {
   "cell_type": "markdown",
   "metadata": {},
   "source": [
    "# **Identify the educational qualifications associated with the highest number of car owners in Europe.**"
   ]
  },
  {
   "cell_type": "markdown",
   "metadata": {},
   "source": [
    "#### The qualification ith the hishest number of car owners in Europe as shown by the bar chart below is _Partial College_"
   ]
  },
  {
   "cell_type": "code",
   "execution_count": 33,
   "metadata": {},
   "outputs": [
    {
     "data": {
      "image/png": "[encoded data removed]",
      "text/plain": [
       "<Figure size 640x480 with 1 Axes>"
      ]
     },
     "metadata": {},
     "output_type": "display_data"
    }
   ],
   "source": [
    "cdts[(cdts.Region == 'Europe') & (cdts.Cars >1)].groupby('Education')['Cars'].count().plot.bar(rot = 45, color = 'darkblue', hatch = '/')\n",
    "plt.title('Distribution of Car owners by qualifications in Europe', fontdict={\n",
    "        'family' : 'montserrat',\n",
    "        'fontweight' : 'bold',\n",
    "        'c' : 'darkblue'},\n",
    "          fontsize = 25)\n",
    "plt.xlabel('Education Qualifications', fontdict={\n",
    "        'family' : 'montserrat',\n",
    "        'fontweight' : 'bold',\n",
    "        'c' : 'darkblue'},\n",
    "          fontsize = 12)\n",
    "plt.ylabel('Number of Cars', fontdict={\n",
    "        'family' : 'montserrat',\n",
    "        'fontweight' : 'bold',\n",
    "        'c' : 'darkblue'},\n",
    "          fontsize = 12)\n",
    "plt.show()"
   ]
  },
  {
   "cell_type": "markdown",
   "metadata": {},
   "source": [
    "# **Compute the total income of Female residents in North America**"
   ]
  },
  {
   "cell_type": "markdown",
   "metadata": {},
   "source": [
    "#### The total income of Female residents in Noth America is $14820000"
   ]
  },
  {
   "cell_type": "code",
   "execution_count": 16,
   "metadata": {},
   "outputs": [
    {
     "data": {
      "text/plain": [
       "14820000"
      ]
     },
     "execution_count": 16,
     "metadata": {},
     "output_type": "execute_result"
    }
   ],
   "source": [
    "cdts[(cdts.Region == 'North America') & (cdts.Gender == 'F')]['Income'].sum()"
   ]
  },
  {
   "cell_type": "markdown",
   "metadata": {},
   "source": [
    "# **Count the number of Male home owners in Europe that have bicycles**"
   ]
  },
  {
   "cell_type": "markdown",
   "metadata": {},
   "source": [
    "#### In Europe, 45 male home owners have bicycles"
   ]
  },
  {
   "cell_type": "code",
   "execution_count": 17,
   "metadata": {},
   "outputs": [
    {
     "data": {
      "text/plain": [
       "(45, 13)"
      ]
     },
     "execution_count": 17,
     "metadata": {},
     "output_type": "execute_result"
    }
   ],
   "source": [
    "cdts[(cdts.Region == 'Europe') & (cdts.Gender == 'M') & (cdts['Purchased Bike'] == 'Yes') & (cdts['Home Owner'] == 'Yes')].shape"
   ]
  },
  {
   "cell_type": "markdown",
   "metadata": {},
   "source": [
    "# **Count the number of Male home owners in Europe that have bicycles and at least one car**"
   ]
  },
  {
   "cell_type": "markdown",
   "metadata": {},
   "source": [
    "#### In Europe, 21 male home owners have bicycles and atleast, a car"
   ]
  },
  {
   "cell_type": "code",
   "execution_count": 18,
   "metadata": {},
   "outputs": [
    {
     "data": {
      "text/plain": [
       "(21, 13)"
      ]
     },
     "execution_count": 18,
     "metadata": {},
     "output_type": "execute_result"
    }
   ],
   "source": [
    "cdts[(cdts.Region == 'Europe') & (cdts.Gender == 'M') & (cdts['Purchased Bike'] == 'Yes') & (cdts['Home Owner'] == 'Yes') & (cdts.Cars >0)].shape"
   ]
  },
  {
   "cell_type": "markdown",
   "metadata": {},
   "source": [
    "# **Count the number of MALES IN EUROPE**\n",
    "\n"
   ]
  },
  {
   "cell_type": "markdown",
   "metadata": {},
   "source": [
    "#### The number of MALES IN EUROPE is 136\n",
    "\n"
   ]
  },
  {
   "cell_type": "code",
   "execution_count": 19,
   "metadata": {},
   "outputs": [
    {
     "data": {
      "text/plain": [
       "(136, 13)"
      ]
     },
     "execution_count": 19,
     "metadata": {},
     "output_type": "execute_result"
    }
   ],
   "source": [
    "cdts[(cdts.Region == 'Europe') & (cdts.Gender == 'M')].shape"
   ]
  },
  {
   "cell_type": "markdown",
   "metadata": {},
   "source": [
    "# **Between car owners and bike owners, who covers the highest distance in Pacific?**"
   ]
  },
  {
   "cell_type": "markdown",
   "metadata": {},
   "source": [
    "It ia clearly seen from the charts  below that car owners cover high"
   ]
  },
  {
   "cell_type": "code",
   "execution_count": 21,
   "metadata": {},
   "outputs": [
    {
     "data": {
      "image/png": "[encoded data removed]",
      "text/plain": [
       "<Figure size 640x480 with 1 Axes>"
      ]
     },
     "metadata": {},
     "output_type": "display_data"
    }
   ],
   "source": [
    "cdts[(cdts.Cars >0) & (cdts.Region == 'Pacific')]['Commute Distance'].value_counts().plot.bar(rot = 0, color = 'darkblue', hatch = '/')\n",
    "plt.title('Distribution of Distance Covered by Car owners in the Pacific', fontdict={\n",
    "        'family' : 'montserrat',\n",
    "        'fontweight' : 'bold',\n",
    "        'c' : 'darkblue'},\n",
    "          fontsize = 25)\n",
    "plt.xlabel('Distance covered', fontdict={\n",
    "        'family' : 'montserrat',\n",
    "        'fontweight' : 'bold',\n",
    "        'c' : 'darkblue'},\n",
    "          fontsize = 12)\n",
    "\n",
    "plt.show()"
   ]
  },
  {
   "cell_type": "code",
   "execution_count": 22,
   "metadata": {},
   "outputs": [
    {
     "data": {
      "image/png": "[encoded data removed]",
      "text/plain": [
       "<Figure size 640x480 with 1 Axes>"
      ]
     },
     "metadata": {},
     "output_type": "display_data"
    }
   ],
   "source": [
    "cdts[(cdts['Purchased Bike'] == 'Yes') & (cdts.Region == 'Pacific')]['Commute Distance'].value_counts().plot.bar(rot = 0, color = 'darkblue', hatch = '/')\n",
    "plt.title('Distribution of Distance Covered by Bike owners in the Pacific', fontdict={\n",
    "        'family' : 'montserrat',\n",
    "        'fontweight' : 'bold',\n",
    "        'c' : 'darkblue'},\n",
    "          fontsize = 25)\n",
    "plt.xlabel('Distance covered', fontdict={\n",
    "        'family' : 'montserrat',\n",
    "        'fontweight' : 'bold',\n",
    "        'c' : 'darkblue'},\n",
    "          fontsize = 12)\n",
    "\n",
    "plt.show()"
   ]
  },
  {
   "cell_type": "markdown",
   "metadata": {},
   "source": [
    "# **Count the number of home owners in Europe**"
   ]
  },
  {
   "cell_type": "markdown",
   "metadata": {},
   "source": [
    "#### In Europe, the number of home owners is 683"
   ]
  },
  {
   "cell_type": "code",
   "execution_count": 23,
   "metadata": {},
   "outputs": [
    {
     "data": {
      "text/plain": [
       "(683, 13)"
      ]
     },
     "execution_count": 23,
     "metadata": {},
     "output_type": "execute_result"
    }
   ],
   "source": [
    "cdts[cdts['Home Owner'] == 'Yes'].shape"
   ]
  },
  {
   "cell_type": "markdown",
   "metadata": {},
   "source": [
    "# **How many married men have cars and bicycles in North America?**\n"
   ]
  },
  {
   "cell_type": "markdown",
   "metadata": {},
   "source": [
    "#### The dataset shows that 24 married men have cars and bicycles in North America"
   ]
  },
  {
   "cell_type": "code",
   "execution_count": 34,
   "metadata": {},
   "outputs": [
    {
     "data": {
      "text/plain": [
       "(24, 13)"
      ]
     },
     "execution_count": 34,
     "metadata": {},
     "output_type": "execute_result"
    }
   ],
   "source": [
    "cdts[(cdts['Marital Status'] ==  'M') & (cdts.Gender == 'M') & (cdts.Cars > 1) & (cdts.Region == 'North America') & (cdts['Purchased Bike'] == 'Yes')].shape"
   ]
  }
 ],
 "metadata": {
  "kernelspec": {
   "display_name": "Python 3",
   "language": "python",
   "name": "python3"
  },
  "language_info": {
   "codemirror_mode": {
    "name": "ipython",
    "version": 3
   },
   "file_extension": ".py",
   "mimetype": "text/x-python",
   "name": "python",
   "nbconvert_exporter": "python",
   "pygments_lexer": "ipython3",
   "version": "3.12.3"
  }
 },
 "nbformat": 4,
 "nbformat_minor": 2
}
